{
 "cells": [
  {
   "cell_type": "code",
   "execution_count": 1,
   "metadata": {},
   "outputs": [],
   "source": [
    "import numpy as np\n",
    "import cv2\n",
    "import os\n",
    "import re\n",
    "import matplotlib.pyplot as plt\n",
    "%matplotlib inline\n",
    "from sklearn.model_selection import train_test_split\n",
    "from sklearn.metrics import classification_report\n",
    "from tensorflow import keras\n",
    "import tensorflow as tf\n",
    "from tensorflow.keras.utils import to_categorical\n",
    "from tensorflow.keras.models import Sequential,Model\n",
    "from tensorflow.keras.layers import Dense, Dropout, Flatten\n",
    "from tensorflow.keras.layers import Conv2D, MaxPooling2D\n",
    "from skimage.transform import resize\n",
    "from tensorflow.keras.layers import LeakyReLU\n",
    "from tensorflow.keras.callbacks import ModelCheckpoint\n",
    "from tensorflow.keras.optimizers import Adam\n",
    "\n",
    "import csv\n",
    "import cv2\n",
    "import numpy as np\n",
    "\n",
    "from PIL import Image\n",
    "from tensorflow.keras.models import Sequential\n",
    "from tensorflow.keras.layers import Flatten, Dense, Lambda\n",
    "from tensorflow.keras.layers import Dense, Activation, Flatten, Dropout\n",
    "\n",
    "from tensorflow.keras.layers import Cropping2D\n",
    "from tensorflow.keras.layers import Conv2D\n",
    "from tensorflow.keras.layers import MaxPooling2D\n",
    "from tensorflow.keras import backend as K\n",
    "from sklearn.model_selection import train_test_split\n",
    "from skimage.transform import resize\n",
    "import matplotlib.pyplot as plt\n",
    "\n",
    "\n",
    "\n"
   ]
  },
  {
   "cell_type": "code",
   "execution_count": 2,
   "metadata": {},
   "outputs": [
    {
     "name": "stdout",
     "output_type": "stream",
     "text": [
      "leyendo imagenes de  /home/ruben/Escritorio/imagenes Circuito Original/todas//\n",
      "/home/ruben/Escritorio/imagenes Circuito Original/todas// 1\n",
      "Directorios leidos: 1\n",
      "Imagenes en cada directorio [1915]\n",
      "suma Total de imagenes en subdirs: 1915\n"
     ]
    }
   ],
   "source": [
    "dirname = os.path.join(os.getcwd(), '/home/ruben/Escritorio/imagenes Circuito Original/todas/')\n",
    "imgpath = dirname + os.sep \n",
    "\n",
    "images = []\n",
    "directories = []\n",
    "dircount = []\n",
    "prevRoot=''\n",
    "cant=0\n",
    "\n",
    "angles=[]\n",
    "firstline = True\n",
    "\n",
    "print(\"leyendo imagenes de \",imgpath)\n",
    "\n",
    "\n",
    "with open('/home/ruben/Escritorio/vo_epipolar_regresion/build/todas.csv', 'r') as f:\n",
    "    reader = csv.reader(f)\n",
    "    for row in reader:\n",
    "        if firstline:    #skip first line\n",
    "            firstline = False\n",
    "            continue\n",
    "        angle = float(row[1])\n",
    "        angles.append([angle])\n",
    "        source_path1 = row[0]\n",
    "        for root, dirnames, filenames in os.walk(imgpath):\n",
    "            for filename in filenames:\n",
    "                if re.search(\"\\.(jpg|jpeg|png|bmp|tiff)$\", filename):\n",
    "                    if(filename==source_path1):\n",
    "                        cant=cant+1\n",
    "                        filepath = os.path.join(root, filename)\n",
    "                        image = plt.imread(filepath)\n",
    "                        height,width=64, 80\n",
    "                        image_resized = cv2.resize(image, (width,height))\n",
    "                        images.append(image_resized)\n",
    "                        b = \"Leyendo...\" + str(cant)\n",
    "                        print (b, end=\"\\r\")\n",
    "                        if prevRoot !=root:\n",
    "                            print(root, cant)\n",
    "                            prevRoot=root\n",
    "                            directories.append(root)\n",
    "                            dircount.append(cant)\n",
    "                            cant=0\n",
    "dircount.append(cant)\n",
    "\n",
    "dircount = dircount[1:]\n",
    "dircount[0]=dircount[0]+1\n",
    "print('Directorios leidos:',len(directories))\n",
    "print(\"Imagenes en cada directorio\", dircount)\n",
    "print('suma Total de imagenes en subdirs:',sum(dircount))"
   ]
  },
  {
   "cell_type": "code",
   "execution_count": 3,
   "metadata": {},
   "outputs": [
    {
     "name": "stdout",
     "output_type": "stream",
     "text": [
      "(1915, 64, 80, 3)\n",
      "(1915, 1)\n"
     ]
    },
    {
     "data": {
      "text/plain": [
       "[Text(0.5, 1.0, 'Ángulos de las imagenes'),\n",
       " Text(0, 0.5, 'Repeticiones'),\n",
       " Text(0.5, 0, 'ángulo')]"
      ]
     },
     "execution_count": 3,
     "metadata": {},
     "output_type": "execute_result"
    },
    {
     "data": {
      "image/png": "[encoded data removed]",
      "text/plain": [
       "<Figure size 432x288 with 1 Axes>"
      ]
     },
     "metadata": {
      "needs_background": "light"
     },
     "output_type": "display_data"
    }
   ],
   "source": [
    "Y = np.array(angles)\n",
    "X = np.array(images, dtype=np.uint8) \n",
    "print(X.shape)\n",
    "print(Y.shape)\n",
    "\n",
    "plt.hist(Y, bins=50)\n",
    "plt.gca().set(title='Ángulos de las imagenes', ylabel='Repeticiones',xlabel='ángulo')"
   ]
  },
  {
   "cell_type": "code",
   "execution_count": 4,
   "metadata": {},
   "outputs": [
    {
     "name": "stdout",
     "output_type": "stream",
     "text": [
      "(3830, 64, 80, 3)\n",
      "(3830, 1)\n"
     ]
    }
   ],
   "source": [
    "#para duplicar imagenes\n",
    "images_aug,angles_aug=[],[]\n",
    "for image_aux,angle_aux in zip(X,Y):\n",
    "    images_aug.append(image_aux)\n",
    "    angles_aug.append(angle_aux)\n",
    "    images_aug.append(cv2.flip(image_aux,1))\n",
    "    angles_aug.append(180 -angle_aux)\n",
    "a = np.array(images_aug, dtype=np.uint8)\n",
    "b = np.array(angles_aug) \n",
    "print(a.shape)\n",
    "print(b.shape)\n",
    "X=a\n",
    "Y=b"
   ]
  },
  {
   "cell_type": "code",
   "execution_count": 5,
   "metadata": {},
   "outputs": [
    {
     "data": {
      "text/plain": [
       "[Text(0.5, 1.0, 'Ángulos de las imagenes tras aumento'),\n",
       " Text(0, 0.5, 'Repeticiones'),\n",
       " Text(0.5, 0, 'ángulo')]"
      ]
     },
     "execution_count": 5,
     "metadata": {},
     "output_type": "execute_result"
    },
    {
     "data": {
      "image/png": "[encoded data removed]",
      "text/plain": [
       "<Figure size 432x288 with 1 Axes>"
      ]
     },
     "metadata": {
      "needs_background": "light"
     },
     "output_type": "display_data"
    }
   ],
   "source": [
    "plt.hist(Y, bins=50)\n",
    "plt.gca().set(title='Ángulos de las imagenes tras aumento', ylabel='Repeticiones',xlabel='ángulo')"
   ]
  },
  {
   "cell_type": "code",
   "execution_count": 6,
   "metadata": {},
   "outputs": [
    {
     "name": "stdout",
     "output_type": "stream",
     "text": [
      "(3064, 64, 80, 3)\n",
      "(3064, 1)\n",
      "Training data shape :  (3064, 64, 80, 3) (3064, 1)\n",
      "Testing data shape :  (766, 64, 80, 3) (766, 1)\n",
      "(3064, 64, 80, 3) (766, 64, 80, 3) (3064, 1) (766, 1)\n",
      "(3064, 1)\n"
     ]
    }
   ],
   "source": [
    "from PIL import Image\n",
    "\n",
    "train_X,test_X,train_Y,test_Y = train_test_split(X,Y,test_size=0.2)\n",
    "print(train_X.shape)\n",
    "print(train_Y.shape)\n",
    "print('Training data shape : ', train_X.shape, train_Y.shape)\n",
    "print('Testing data shape : ', test_X.shape, test_Y.shape)\n",
    "\n",
    "train_X = train_X.astype('float32')\n",
    "test_X = test_X.astype('float32')\n",
    "train_X = train_X / 255.\n",
    "test_X = test_X / 255.\n",
    "\n",
    "train_Y = train_Y.astype('float32')\n",
    "test_Y= test_Y.astype('float32')\n",
    "train_Y= train_Y/ 180\n",
    "test_Y= test_Y/ 180\n",
    "\n",
    "print(train_X.shape,test_X.shape,train_Y.shape,test_Y.shape)\n",
    "print(train_Y.shape)\n"
   ]
  },
  {
   "cell_type": "code",
   "execution_count": 7,
   "metadata": {},
   "outputs": [
    {
     "name": "stdout",
     "output_type": "stream",
     "text": [
      "Model: \"sequential\"\n",
      "_________________________________________________________________\n",
      "Layer (type)                 Output Shape              Param #   \n",
      "=================================================================\n",
      "conv2d (Conv2D)              (None, 30, 38, 24)        1824      \n",
      "_________________________________________________________________\n",
      "conv2d_1 (Conv2D)            (None, 13, 17, 36)        21636     \n",
      "_________________________________________________________________\n",
      "conv2d_2 (Conv2D)            (None, 5, 7, 48)          43248     \n",
      "_________________________________________________________________\n",
      "conv2d_3 (Conv2D)            (None, 3, 5, 64)          27712     \n",
      "_________________________________________________________________\n",
      "conv2d_4 (Conv2D)            (None, 1, 3, 64)          36928     \n",
      "_________________________________________________________________\n",
      "dropout (Dropout)            (None, 1, 3, 64)          0         \n",
      "_________________________________________________________________\n",
      "flatten (Flatten)            (None, 192)               0         \n",
      "_________________________________________________________________\n",
      "dense (Dense)                (None, 100)               19300     \n",
      "_________________________________________________________________\n",
      "dropout_1 (Dropout)          (None, 100)               0         \n",
      "_________________________________________________________________\n",
      "dense_1 (Dense)              (None, 10)                1010      \n",
      "_________________________________________________________________\n",
      "dense_2 (Dense)              (None, 1)                 11        \n",
      "=================================================================\n",
      "Total params: 151,669\n",
      "Trainable params: 151,669\n",
      "Non-trainable params: 0\n",
      "_________________________________________________________________\n"
     ]
    }
   ],
   "source": [
    "model = Sequential()\n",
    "model.add(Conv2D(filters=24, kernel_size=(5, 5), activation='elu', strides=(2, 2),input_shape=(height, width,3)))\n",
    "model.add(Conv2D(filters=36, kernel_size=(5, 5), activation='elu', strides=(2, 2)))\n",
    "model.add(Conv2D(filters=48,kernel_size=(5, 5), activation='elu', strides=(2, 2)))\n",
    "model.add(Conv2D(filters=64,kernel_size=( 3, 3), activation='elu'))\n",
    "model.add(Conv2D(filters=64,kernel_size=( 3, 3), activation='elu'))\n",
    "model.add(Dropout(0.25))\n",
    "model.add(Flatten())\n",
    "model.add(Dense(100, activation='elu'))\n",
    "model.add(Dropout(0.5))\n",
    "model.add(Dense(10, activation='elu'))\n",
    "model.add(Dense(1))\n",
    "\n",
    "model.summary()\n"
   ]
  },
  {
   "cell_type": "code",
   "execution_count": 8,
   "metadata": {
    "scrolled": false
   },
   "outputs": [
    {
     "name": "stderr",
     "output_type": "stream",
     "text": [
      "/home/ruben/anaconda3/lib/python3.7/site-packages/tensorflow/python/keras/optimizer_v2/optimizer_v2.py:375: UserWarning: The `lr` argument is deprecated, use `learning_rate` instead.\n",
      "  \"The `lr` argument is deprecated, use `learning_rate` instead.\")\n"
     ]
    },
    {
     "name": "stdout",
     "output_type": "stream",
     "text": [
      "Epoch 1/15\n",
      "96/96 [==============================] - 5s 46ms/step - loss: 0.0664 - val_loss: 0.0428\n",
      "Epoch 2/15\n",
      "96/96 [==============================] - 5s 50ms/step - loss: 0.0480 - val_loss: 0.0397\n",
      "Epoch 3/15\n",
      "96/96 [==============================] - 7s 71ms/step - loss: 0.0428 - val_loss: 0.0346\n",
      "Epoch 4/15\n",
      "96/96 [==============================] - 7s 72ms/step - loss: 0.0406 - val_loss: 0.0336\n",
      "Epoch 5/15\n",
      "96/96 [==============================] - 6s 64ms/step - loss: 0.0372 - val_loss: 0.0338\n",
      "Epoch 6/15\n",
      "96/96 [==============================] - 6s 60ms/step - loss: 0.0359 - val_loss: 0.0321\n",
      "Epoch 7/15\n",
      "96/96 [==============================] - 6s 60ms/step - loss: 0.0334 - val_loss: 0.0317\n",
      "Epoch 8/15\n",
      "96/96 [==============================] - 6s 61ms/step - loss: 0.0330 - val_loss: 0.0323\n",
      "Epoch 9/15\n",
      "96/96 [==============================] - 6s 59ms/step - loss: 0.0318 - val_loss: 0.0307\n",
      "Epoch 10/15\n",
      "96/96 [==============================] - 5s 55ms/step - loss: 0.0317 - val_loss: 0.0335\n",
      "Epoch 11/15\n",
      "96/96 [==============================] - 6s 65ms/step - loss: 0.0299 - val_loss: 0.0306\n",
      "Epoch 12/15\n",
      "96/96 [==============================] - 6s 61ms/step - loss: 0.0299 - val_loss: 0.0305\n",
      "Epoch 13/15\n",
      "96/96 [==============================] - 6s 65ms/step - loss: 0.0298 - val_loss: 0.0306\n",
      "Epoch 14/15\n",
      "96/96 [==============================] - 9s 98ms/step - loss: 0.0287 - val_loss: 0.0305\n",
      "Epoch 15/15\n",
      "96/96 [==============================] - 8s 81ms/step - loss: 0.0275 - val_loss: 0.0307\n",
      "24/24 [==============================] - 1s 26ms/step - loss: 0.0307\n",
      "0.030706064775586128\n"
     ]
    }
   ],
   "source": [
    "checkpoint = ModelCheckpoint('model-{epoch:03d}.h5',\n",
    "                             monitor='val_loss',\n",
    "                             verbose=0,\n",
    "                             save_best_only=True,\n",
    "                             mode='auto')\n",
    "\n",
    "\n",
    "model.compile(loss='mean_squared_error', optimizer=Adam(lr=1.0e-4))\n",
    "\n",
    "move_train =model.fit(train_X,train_Y,validation_data=(test_X,test_Y ),shuffle=True,epochs=15,callbacks=[checkpoint])\n",
    "\n",
    "\n",
    "\n",
    "test_eval = model.evaluate(test_X, test_Y, verbose=1)\n",
    "print(test_eval)\n"
   ]
  },
  {
   "cell_type": "code",
   "execution_count": 10,
   "metadata": {},
   "outputs": [],
   "source": [
    "model.save(\"prueba.h5\")"
   ]
  },
  {
   "cell_type": "code",
   "execution_count": 11,
   "metadata": {},
   "outputs": [
    {
     "data": {
      "image/png": "[encoded data removed]",
      "text/plain": [
       "<Figure size 432x288 with 1 Axes>"
      ]
     },
     "metadata": {
      "needs_background": "light"
     },
     "output_type": "display_data"
    }
   ],
   "source": [
    "loss = move_train.history['loss']\n",
    "val_loss = move_train.history['val_loss']\n",
    "epochs = range(len(loss))\n",
    "plt.figure()\n",
    "plt.plot(epochs, loss, 'bo', label='Training loss')\n",
    "plt.plot(epochs, val_loss, 'b', label='Validation loss')\n",
    "plt.title('Training and validation loss')\n",
    "plt.legend()\n",
    "plt.show()"
   ]
  },
  {
   "cell_type": "markdown",
   "metadata": {},
   "source": [
    "#### "
   ]
  },
  {
   "cell_type": "code",
   "execution_count": 12,
   "metadata": {},
   "outputs": [],
   "source": [
    "new_model = keras.models.load_model('pt.h5')\n",
    "predicted_classes2 = new_model.predict(test_X)\n"
   ]
  },
  {
   "cell_type": "code",
   "execution_count": 13,
   "metadata": {},
   "outputs": [],
   "source": [
    "predicted_classes=[]\n",
    "for predicted_move in predicted_classes2:\n",
    "    predicted_classes.append(predicted_move.tolist().index(max(predicted_move)))\n",
    "predicted_classes=np.array(predicted_classes)"
   ]
  },
  {
   "cell_type": "code",
   "execution_count": null,
   "metadata": {},
   "outputs": [],
   "source": [
    "plt.figure(figsize=(20,20))\n",
    "for i,j in enumerate(predicted_classes2):\n",
    "    plt.subplot(10,10,i+1)\n",
    "    plt.imshow(test_X[i].reshape(height, width,3), cmap='gray', interpolation='none')\n",
    "    plt.title(\"{}, {}\".format(np.round(predicted_classes2[i],2),np.round(test_Y[i],2)))\n",
    "    plt.tight_layout()\n"
   ]
  },
  {
   "cell_type": "code",
   "execution_count": null,
   "metadata": {},
   "outputs": [],
   "source": []
  }
 ],
 "metadata": {
  "kernelspec": {
   "display_name": "Python 3",
   "language": "python",
   "name": "python3"
  },
  "language_info": {
   "codemirror_mode": {
    "name": "ipython",
    "version": 3
   },
   "file_extension": ".py",
   "mimetype": "text/x-python",
   "name": "python",
   "nbconvert_exporter": "python",
   "pygments_lexer": "ipython3",
   "version": "3.7.9"
  }
 },
 "nbformat": 4,
 "nbformat_minor": 4
}
